{
 "cells": [
  {
   "cell_type": "markdown",
   "id": "c0d0075d-14fe-42ca-ae27-94cc220f77a8",
   "metadata": {},
   "source": [
    "# Stepik ML contest\n",
    "\n",
    "## Description\n",
    "This project is a part of Stepik course \"Introduction to Data Science and machine learning\". The task is to analyze users activity in another Stepik course and predict whether the user is going to complete the course based on his activity during the first two days of education. We assume that person has completed the course if he has more then 40 correctly done 'steps'.\n",
    "We are given two datasets:\n",
    "- events_train - data about users actions on 'steps'. Brief description of the dataset:\n",
    "  - step_id\n",
    "  - used_id\n",
    "  - timestamp - action time\n",
    "  - action - one of four possible actions:\n",
    "    - discovered\n",
    "    - viewed\n",
    "    - started_attempt\n",
    "    - passed\n",
    "- submissions_train - data about users submits of the 'steps'. Brief description of the dataset:\n",
    "  - step_id\n",
    "  - timestamp - submit time\n",
    "  - submission_status:\n",
    "    - correct\n",
    "    - wrong\n",
    "  - user_id"
   ]
  },
  {
   "cell_type": "code",
   "execution_count": 764,
   "id": "647dd78a-68db-410d-a2cf-99091fd4e533",
   "metadata": {},
   "outputs": [],
   "source": [
    "import pandas as pd\n",
    "import numpy as np\n",
    "from sklearn.ensemble import RandomForestClassifier\n",
    "from sklearn.model_selection import RandomizedSearchCV"
   ]
  },
  {
   "cell_type": "code",
   "execution_count": null,
   "id": "e20208b7-1376-41be-bc33-0357fc95bbff",
   "metadata": {},
   "outputs": [],
   "source": [
    "submission_data_test = pd.read_csv('submission_data_test.csv')\n",
    "events_data_test = pd.read_csv('events_data_test.csv')\n",
    "submissions_data_train = pd.read_csv('submissions_data_train.csv')\n",
    "events_data_train = pd.read_csv('event_data_train.csv')\n",
    "\n",
    "# Loading test and train datasets"
   ]
  },
  {
   "cell_type": "code",
   "execution_count": null,
   "id": "8503d8eb-03af-43b4-a9a1-b7328f81aab4",
   "metadata": {},
   "outputs": [],
   "source": [
    "finished_users = submissions_data_train.query('submission_status == \"correct\"').groupby('user_id', as_index=False).agg({'timestamp': 'count'}).rename(columns={'timestamp' :'correct_count'})\n",
    "finished_users['has_finished'] = finished_users.correct_count > 40\n",
    "\n",
    "# Selecting users, who has more then 40 correct submits"
   ]
  },
  {
   "cell_type": "code",
   "execution_count": 780,
   "id": "2beda60f-3c24-4845-8686-ac691ca6ea70",
   "metadata": {},
   "outputs": [],
   "source": [
    "events_data_for_finished_users = events_data_train.merge(finished_users, how='inner', on='user_id')[['user_id', 'timestamp']]\n",
    "events_data_for_finished_users['day'] = pd.to_datetime(events_data_for_finished_users['timestamp'], unit='s').dt.date\n",
    "events_data_for_finished_users = events_data_for_finished_users.drop_duplicates(subset=['user_id', 'day'])\n",
    "events_time_dif_for_finished_users = pd.Series(np.concatenate(events_data_for_finished_users.groupby('user_id')['timestamp'].apply(list).apply(np.diff).values, axis=0))\n",
    "events_time_dif_for_finished_users = events_time_dif_for_finished_users / (24 * 60 * 60)\n",
    "days_for_user_to_be_gone = events_time_dif_for_finished_users.quantile(0.9)\n",
    "\n",
    "# Calculating time between users actions for those, who has more then 40 correct submits, and selecting 0.9 quantile. Then if the user has gone for more then this time, we wiil assume his as a gone user."
   ]
  },
  {
   "cell_type": "code",
   "execution_count": 781,
   "id": "9528b80b-fd5f-471c-b41e-cd2cc90a4764",
   "metadata": {},
   "outputs": [],
   "source": [
    "last_time_stamp = events_data_train['timestamp'].max()\n",
    "gone_users = events_data_train.groupby('user_id', as_index=False).agg({'timestamp': 'max'})\n",
    "gone_users['is_gone'] = 1526772811 - days_for_user_to_be_gone * 24 * 60 * 60 > gone_users['timestamp']\n",
    "gone_users = gone_users.drop('timestamp', axis=1)\n",
    "\n",
    "# Selecting gone users"
   ]
  },
  {
   "cell_type": "code",
   "execution_count": 782,
   "id": "ed054f26-1777-4a74-b09a-4e64c0639c5d",
   "metadata": {},
   "outputs": [],
   "source": [
    "first_two_days_actions = events_data_train\n",
    "frist_two_days_submisions = submissions_data_train\n",
    "first_two_days_actions['first_timestamp'] = first_two_days_actions.groupby('user_id')['timestamp'].transform('min')\n",
    "frist_two_days_submisions['first_timestamp'] = frist_two_days_submisions.groupby('user_id')['timestamp'].transform('min')\n",
    "first_two_days_actions = first_two_days_actions[first_two_days_actions['timestamp'] <= first_two_days_actions['first_timestamp'] + 2 * 24 * 60 * 60]\n",
    "frist_two_days_submisions = frist_two_days_submisions[frist_two_days_submisions['timestamp'] <= frist_two_days_submisions['first_timestamp'] + 2 * 24 * 60 * 60]\n",
    "actions_pivot_table = first_two_days_actions.pivot_table(index='user_id', columns='action', values='step_id', aggfunc='count', fill_value=0).reset_index()\n",
    "submissions_pivot_table = frist_two_days_submisions.pivot_table(index='user_id', columns='submission_status', values='step_id', aggfunc='count', fill_value=0).reset_index()\n",
    "submissions_pivot_table['total_sub_count'] = submissions_pivot_table.correct + submissions_pivot_table.wrong\n",
    "submissions_pivot_table['correct_ratio'] = submissions_pivot_table.correct / submissions_pivot_table.total_sub_count\n",
    "submissions_pivot_table = submissions_pivot_table.drop(['correct', 'wrong'], axis=1)\n",
    "\n",
    "# Selecting actions of first two days for each user. Also calculating some features for predictions."
   ]
  },
  {
   "cell_type": "code",
   "execution_count": null,
   "id": "ff652505-5d0c-4ed5-9eec-ae377deb5c48",
   "metadata": {},
   "outputs": [],
   "source": [
    "final_df = submissions_pivot_table.merge(actions_pivot_table, how='outer', on='user_id').fillna(0)\n",
    "final_df = final_df.merge(gone_users, how='outer', on='user_id')\n",
    "final_df = final_df.merge(finished_users, how='outer', on='user_id')\n",
    "final_df = final_df.fillna({'correct_count': 0, 'has_finished': False})\n",
    "final_df = final_df[(final_df.is_gone == True) | (final_df.has_finished == True)]\n",
    "X_train = final_df.drop(['is_gone', 'has_finished', 'user_id', 'correct_count'], axis=1)\n",
    "y_train = final_df.has_finished\n",
    "\n",
    "# Merging final dataset"
   ]
  },
  {
   "cell_type": "code",
   "execution_count": null,
   "id": "cc970e57-f8d0-40f9-99c8-d6d1f770a545",
   "metadata": {},
   "outputs": [],
   "source": [
    "actions_test_pivot_table = events_data_test.pivot_table(index='user_id', columns='action', values='step_id', aggfunc='count', fill_value=0).reset_index()\n",
    "submissions_test_pivot_table = submission_data_test.pivot_table(index='user_id', columns='submission_status', values='step_id', aggfunc='count', fill_value=0).reset_index()\n",
    "submissions_test_pivot_table['total_sub_count'] = submissions_test_pivot_table.correct + submissions_test_pivot_table.wrong\n",
    "submissions_test_pivot_table['correct_ratio'] = submissions_test_pivot_table.correct / submissions_test_pivot_table.total_sub_count\n",
    "submissions_test_pivot_table = submissions_test_pivot_table.drop(['correct', 'wrong'], axis=1)\n",
    "final_test_df = submissions_test_pivot_table.merge(actions_test_pivot_table, how='outer', on='user_id').fillna(0)\n",
    "X_test = final_test_df.drop('user_id', axis=1)\n",
    "\n",
    "# Merging test datasets"
   ]
  },
  {
   "cell_type": "code",
   "execution_count": null,
   "id": "c82840d5-dbfb-4856-96da-ba8d39ce1bb2",
   "metadata": {},
   "outputs": [],
   "source": [
    "rfc = RandomForestClassifier()\n",
    "params = {'n_estimators': range(10, 201, 10), 'max_depth': range(1, 10), 'min_samples_split': range(1, 10), 'min_samples_leaf': range(1, 10)}\n",
    "gridscv = RandomizedSearchCV(rfc, params, cv=5, n_jobs=-1)\n",
    "gridscv.fit(X_train, y_train)\n",
    "best_estimator = gridscv.best_estimator_\n",
    "\n",
    "# Searcing for best RandomForestClassifier"
   ]
  },
  {
   "cell_type": "code",
   "execution_count": 783,
   "id": "30c0c3a2-48c4-4244-9fd7-75500ab930e0",
   "metadata": {},
   "outputs": [],
   "source": [
    "predictions = best_estimator.predict_proba(X_test)\n",
    "pred_df = pd.DataFrame(predictions)\n",
    "pred_df = pred_df.rename(columns={0: 'user_id', 1: 'is_gone'})\n",
    "pred_df['user_id'] = final_test_df['user_id']\n",
    "pred_df.to_csv('result.csv', index=False)\n",
    "\n",
    "# Predicting and saving the results"
   ]
  },
  {
   "cell_type": "markdown",
   "id": "391621a4-88e2-4f71-83b2-5ff3e8c0bb39",
   "metadata": {},
   "source": [
    "## Result\n",
    "![AUC ROC score](AUC_ROC.)\n"
   ]
  },
  {
   "cell_type": "code",
   "execution_count": null,
   "id": "68572172-f7d6-4df2-93b5-b5eecc48a4a8",
   "metadata": {},
   "outputs": [],
   "source": []
  }
 ],
 "metadata": {
  "kernelspec": {
   "display_name": "Python 3 (ipykernel)",
   "language": "python",
   "name": "python3"
  },
  "language_info": {
   "codemirror_mode": {
    "name": "ipython",
    "version": 3
   },
   "file_extension": ".py",
   "mimetype": "text/x-python",
   "name": "python",
   "nbconvert_exporter": "python",
   "pygments_lexer": "ipython3",
   "version": "3.10.7"
  }
 },
 "nbformat": 4,
 "nbformat_minor": 5
}
